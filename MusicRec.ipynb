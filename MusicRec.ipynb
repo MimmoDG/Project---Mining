{
 "cells": [
  {
   "cell_type": "markdown",
   "metadata": {},
   "source": [
    "# Mining Massive Datasets: Final Project."
   ]
  },
  {
   "cell_type": "markdown",
   "metadata": {},
   "source": [
    "inserire il titolo dell'articolo e le cose da fare su questo\n",
    "Music recommendation "
   ]
  },
  {
   "cell_type": "markdown",
   "metadata": {},
   "source": [
    "Obiettivi: analizzare il codice e capire come funziona, modificare i parametri, provare il codice con e senza modifiche sui parametri sui dataset dell'articolo ma anche su nuovi dataset trovati, inserire dei diversi constraint, lavorare sui dataset, pre-processing ecc\n",
    "Poi fare report finale con tutte le conclusioni e risultati ottenuti."
   ]
  },
  {
   "cell_type": "markdown",
   "metadata": {},
   "source": []
  }
 ],
 "metadata": {
  "kernelspec": {
   "display_name": "Python 3.9.13 64-bit (windows store)",
   "language": "python",
   "name": "python3"
  },
  "language_info": {
   "name": "python",
   "version": "3.9.13"
  },
  "orig_nbformat": 4,
  "vscode": {
   "interpreter": {
    "hash": "f5e088b2de45414f51970c7a001922e5dcb4d58d94b364547d15e1e531bc4233"
   }
  }
 },
 "nbformat": 4,
 "nbformat_minor": 2
}
